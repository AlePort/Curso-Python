{
 "cells": [
  {
   "cell_type": "code",
   "execution_count": 7,
   "metadata": {},
   "outputs": [
    {
     "name": "stdout",
     "output_type": "stream",
     "text": [
      "Digite um número: 1\n",
      "Digite outro número: 2\n",
      "A soma é 3, a subtração é -1, a multiplicação é 2 e a divisão é 0.50\n",
      "A divisão inteira é 0, a exponenciação é 1 e o resto da divisão é 1\n"
     ]
    }
   ],
   "source": [
    "# Operadores Aritméticos:\n",
    "\n",
    "n1 = int(input('Digite um número: '))\n",
    "n2 = int(input('Digite outro número: '))\n",
    "s = n1 + n2\n",
    "sub = n1 - n2\n",
    "m = n1 * n2\n",
    "d = n1 / n2\n",
    "di = n1 // n2\n",
    "e = n1 ** n2\n",
    "mod = n1 % n2\n",
    "\n",
    "print('A soma é {}, a subtração é {}, a multiplicação é {} e a divisão é {:.2f}'.format(s, sub, m, d))\n",
    "print('A divisão inteira é {}, a exponenciação é {} e o resto da divisão é {}'.format(di, e, mod))"
   ]
  },
  {
   "cell_type": "code",
   "execution_count": 8,
   "metadata": {},
   "outputs": [
    {
     "name": "stdout",
     "output_type": "stream",
     "text": [
      "Digite um número: 5\n",
      "O número antecessor ao 5, é 4 e o seu sucessor é 6\n"
     ]
    }
   ],
   "source": [
    "#1. Ler um inteiro e dizer sucessor e antecessor:\n",
    "\n",
    "n = int(input('Digite um número: '))\n",
    "ant = n - 1\n",
    "sus = n + 1\n",
    "print(\"O número antecessor ao {}, é {} e o seu sucessor é {}\".format(n, ant, sus))"
   ]
  },
  {
   "cell_type": "code",
   "execution_count": 9,
   "metadata": {},
   "outputs": [
    {
     "name": "stdout",
     "output_type": "stream",
     "text": [
      "Digite um número: 81\n",
      "O dobro de 81, é 162, o triplo é 243, e sua raiz quadrada é 9.0\n"
     ]
    }
   ],
   "source": [
    "#2. Dobro, triplo e raiz quadrada:\n",
    "\n",
    "n = int(input('Digite um número: '))\n",
    "d = n * 2\n",
    "t = n * 3\n",
    "r = n ** (1/2)\n",
    "print('O dobro de {}, é {}, o triplo é {}, e sua raiz quadrada é {}'.format(n, d, t, r))"
   ]
  },
  {
   "cell_type": "code",
   "execution_count": 10,
   "metadata": {},
   "outputs": [
    {
     "name": "stdout",
     "output_type": "stream",
     "text": [
      "Digite uma nota: 7\n",
      "Digite a outra nota: 5\n",
      "A média entra as duas notas é 6.0\n"
     ]
    }
   ],
   "source": [
    "#3. Média:\n",
    "\n",
    "n1 = float(input('Digite uma nota: '))\n",
    "n2 = float(input('Digite a outra nota: '))\n",
    "\n",
    "m = (n1 + n2) / 2\n",
    "\n",
    "print('A média entra as duas notas é {}'.format(m))"
   ]
  },
  {
   "cell_type": "code",
   "execution_count": 12,
   "metadata": {},
   "outputs": [
    {
     "name": "stdout",
     "output_type": "stream",
     "text": [
      "Digite uma mediada em metros: 1\n",
      "A medida de 1.0 metros é igual a 0.01 centímetros e a 0.001 milímetros\n"
     ]
    }
   ],
   "source": [
    "#4. Converter métros para centímetros e milímetros:\n",
    "\n",
    "m = float(input('Digite uma mediada em metros: '))\n",
    "\n",
    "cm = m / 100\n",
    "mm = m /1000\n",
    "\n",
    "print('A medida de {} metros é igual a {} centímetros e a {} milímetros'.format(m,cm,mm))"
   ]
  },
  {
   "cell_type": "code",
   "execution_count": 17,
   "metadata": {},
   "outputs": [
    {
     "name": "stdout",
     "output_type": "stream",
     "text": [
      "Digite um número qualquer: 11\n",
      "\n",
      "Sua tabuada é: \n",
      " \n",
      "1 * 11 = 11\n",
      "2 * 11 = 22\n",
      "3 * 11 = 33\n",
      "4 * 11 = 44\n",
      "5 * 11 = 55\n",
      "6 * 11 = 66\n",
      "7 * 11 = 77\n",
      "8 * 11 = 88\n",
      "9 * 11 = 99\n",
      "10 * 11 = 110\n"
     ]
    }
   ],
   "source": [
    "#5. Tabula de um número qualquer:\n",
    "\n",
    "n = int(input('Digite um número qualquer: '))\n",
    "\n",
    "print('\\nSua tabuada é: \\n ')\n",
    "print('1 * {} = {}'.format(n,1*n))\n",
    "print('2 * {} = {}'.format(n,2*n))\n",
    "print('3 * {} = {}'.format(n,3*n))\n",
    "print('4 * {} = {}'.format(n,4*n))\n",
    "print('5 * {} = {}'.format(n,5*n))\n",
    "print('6 * {} = {}'.format(n,6*n))\n",
    "print('7 * {} = {}'.format(n,7*n))\n",
    "print('8 * {} = {}'.format(n,8*n))\n",
    "print('9 * {} = {}'.format(n,9*n))\n",
    "print('10 * {} = {}'.format(n,10*n))"
   ]
  },
  {
   "cell_type": "code",
   "execution_count": 19,
   "metadata": {},
   "outputs": [
    {
     "name": "stdout",
     "output_type": "stream",
     "text": [
      "Digite a quantidade de reais presentes em sua carteira: 2\n",
      "Você pode comprar 0.61 dólares\n"
     ]
    }
   ],
   "source": [
    "#6. Converter reais em dólares:\n",
    "\n",
    "n = float(input('Digite a quantidade de reais presentes em sua carteira: '))\n",
    "\n",
    "print('Você pode comprar {:.2f} dólares'.format(n/3.27))"
   ]
  },
  {
   "cell_type": "code",
   "execution_count": 21,
   "metadata": {},
   "outputs": [
    {
     "name": "stdout",
     "output_type": "stream",
     "text": [
      "Quantos metros de altura tem a parede que deseja pintar? 45\n",
      "Qual a largura? 62\n",
      "A sua parede tem uma área de 2790.0 metros quadrados e precisará de 1395.00 latas de tinta para pintá-la por completo.\n"
     ]
    }
   ],
   "source": [
    "#7. Calcular a área e a quantidade de tinta necessária:\n",
    "\n",
    "a = float(input('Quantos metros de altura tem a parede que deseja pintar? '))\n",
    "l = float(input('Qual a largura? '))\n",
    "\n",
    "s = a * l\n",
    "\n",
    "print('A sua parede tem uma área de {} metros quadrados e precisará de {:.2f} latas de tinta para pintá-la por completo.'.format(s,s/2))"
   ]
  },
  {
   "cell_type": "code",
   "execution_count": 24,
   "metadata": {},
   "outputs": [
    {
     "name": "stdout",
     "output_type": "stream",
     "text": [
      "Digite o preço do produto: 30\n",
      "Digite quantos por cento de desconto: 5\n",
      "O novo preço do produto com 5% de desconto é de R$28.50\n"
     ]
    }
   ],
   "source": [
    "#8. Preço com desconto:\n",
    "\n",
    "p = float(input('Digite o preço do produto: '))\n",
    "d = int(input('Digite quantos por cento de desconto: '))\n",
    "\n",
    "np = p - p*(d/100)\n",
    "\n",
    "print('O novo preço do produto com {}% de desconto é de R${:.2f}'.format(d, np))"
   ]
  },
  {
   "cell_type": "code",
   "execution_count": 28,
   "metadata": {},
   "outputs": [
    {
     "name": "stdout",
     "output_type": "stream",
     "text": [
      "Digite o salário do funcionário: 4000\n",
      "Digite a percentagem de aumento no salário: 15\n",
      "O novo salário do funcionário, com 15% de aumento, será de R$4600.00\n"
     ]
    }
   ],
   "source": [
    "#9. Salário com aumento:\n",
    "\n",
    "s = float(input('Digite o salário do funcionário: '))\n",
    "a = int(input('Digite a percentagem de aumento no salário: '))\n",
    "\n",
    "sn = s + s * (a/100)\n",
    "\n",
    "print('O novo salário do funcionário, com {}% de aumento, será de R${:.2f}'.format(a, sn))"
   ]
  },
  {
   "cell_type": "code",
   "execution_count": 30,
   "metadata": {},
   "outputs": [
    {
     "name": "stdout",
     "output_type": "stream",
     "text": [
      "Digite a temperatura em °C: 15\n",
      "A temperatura em graus Farenheit é de 59.0°F\n"
     ]
    }
   ],
   "source": [
    "#10. Conversor de temperaturas:\n",
    "\n",
    "tc = float(input('Digite a temperatura em °C: '))\n",
    "\n",
    "tf = (tc * 9/5) + 32\n",
    "\n",
    "print('A temperatura em graus Farenheit é de {}°F'.format(tf))"
   ]
  },
  {
   "cell_type": "code",
   "execution_count": 32,
   "metadata": {},
   "outputs": [
    {
     "name": "stdout",
     "output_type": "stream",
     "text": [
      "Por quantos dias o carro foi alugado? 8\n",
      "Qual a distância precorrida? 720\n",
      "O custo de aluguel do carro por 8 dias para 720.0km rodados, será de R$588.0\n"
     ]
    }
   ],
   "source": [
    "#11. Aluguel do carro:\n",
    "\n",
    "dias = int(input('Por quantos dias o carro foi alugado? '))\n",
    "dist = float(input('Qual a distância precorrida? '))\n",
    "\n",
    "c = dias * 60 + dist * 0.15\n",
    "\n",
    "print('O custo de aluguel do carro por {} dias para {}km rodados, será de R${}'.format(dias, dist, c))"
   ]
  },
  {
   "cell_type": "code",
   "execution_count": null,
   "metadata": {},
   "outputs": [],
   "source": []
  }
 ],
 "metadata": {
  "kernelspec": {
   "display_name": "Python 3",
   "language": "python",
   "name": "python3"
  },
  "language_info": {
   "codemirror_mode": {
    "name": "ipython",
    "version": 3
   },
   "file_extension": ".py",
   "mimetype": "text/x-python",
   "name": "python",
   "nbconvert_exporter": "python",
   "pygments_lexer": "ipython3",
   "version": "3.6.5"
  }
 },
 "nbformat": 4,
 "nbformat_minor": 2
}
