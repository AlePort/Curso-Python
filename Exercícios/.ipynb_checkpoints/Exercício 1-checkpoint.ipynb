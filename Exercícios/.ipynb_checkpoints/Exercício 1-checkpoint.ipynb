{
 "cells": [
  {
   "cell_type": "code",
   "execution_count": 35,
   "metadata": {},
   "outputs": [
    {
     "name": "stdout",
     "output_type": "stream",
     "text": [
      "Digite algo: 1\n",
      "É alfanumérico? True\n",
      "É letra? False\n",
      "É decimal? True\n",
      "É dígito? True\n",
      "É Identificador? False\n",
      "É minúsculo? False\n",
      "É numérico? True\n",
      "É imprimível? True\n",
      "É espaço? False\n",
      "É título? False\n",
      "É maiúsculo? False\n",
      "\f",
      "\n"
     ]
    }
   ],
   "source": [
    "n = input(('Digite algo: '))\n",
    "\n",
    "print('É alfanumérico?',n.isalnum())\n",
    "print('É letra?',n.isalpha())\n",
    "print('É decimal?',n.isdecimal())\n",
    "print('É dígito?',n.isdigit())\n",
    "print('É Identificador?',n.isidentifier())\n",
    "print('É minúsculo?',n.islower())\n",
    "print('É numérico?',n.isnumeric())\n",
    "print('É imprimível?',n.isprintable())\n",
    "print('É espaço?',n.isspace())\n",
    "print('É título?',n.istitle())\n",
    "print('É maiúsculo?',n.isupper())"
   ]
  }
 ],
 "metadata": {
  "kernelspec": {
   "display_name": "Python 3",
   "language": "python",
   "name": "python3"
  },
  "language_info": {
   "codemirror_mode": {
    "name": "ipython",
    "version": 3
   },
   "file_extension": ".py",
   "mimetype": "text/x-python",
   "name": "python",
   "nbconvert_exporter": "python",
   "pygments_lexer": "ipython3",
   "version": "3.6.5"
  }
 },
 "nbformat": 4,
 "nbformat_minor": 2
}
