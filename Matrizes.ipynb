{
 "cells": [
  {
   "cell_type": "code",
   "execution_count": 13,
   "metadata": {},
   "outputs": [
    {
     "name": "stdout",
     "output_type": "stream",
     "text": [
      "Digite um número para o elemento da linha 0, coluna 0: 1\n",
      "Digite um número para o elemento da linha 0, coluna 1: 2\n",
      "Digite um número para o elemento da linha 0, coluna 2: 3\n",
      "Digite um número para o elemento da linha 0, coluna 3: 4\n",
      "Digite um número para o elemento da linha 1, coluna 0: 5\n",
      "Digite um número para o elemento da linha 1, coluna 1: 6\n",
      "Digite um número para o elemento da linha 1, coluna 2: 7\n",
      "Digite um número para o elemento da linha 1, coluna 3: 8\n",
      "Digite um número para o elemento da linha 2, coluna 0: 9\n",
      "Digite um número para o elemento da linha 2, coluna 1: 10\n",
      "Digite um número para o elemento da linha 2, coluna 2: 11\n",
      "Digite um número para o elemento da linha 2, coluna 3: 12\n",
      "[1, 2, 3, 4]\n",
      "[5, 6, 7, 8]\n",
      "[9, 10, 11, 12]\n",
      "O elemento da coluna da parte superior esquerda da matriz é: 1\n",
      "O elemento da coluna da parte inferior direita da matriz é: 12\n"
     ]
    }
   ],
   "source": [
    "#1. Ler matriz 3x4:\n",
    "\n",
    "matriz = [[0,0,0,0],[0,0,0,0],[0,0,0,0]]\n",
    "\n",
    "for i in range(0,3):\n",
    "    for j in range(0,4):\n",
    "        matriz[i][j] = int(input(\"Digite um número para o elemento da linha {}, coluna {}: \".format(i,j)))\n",
    "\n",
    "for n in range(0,3):\n",
    "    print(matriz[n])\n",
    "    \n",
    "print(f'O elemento da coluna da parte superior esquerda da matriz é: {matriz[0][0]}')\n",
    "print(f'O elemento da coluna da parte inferior direita da matriz é: {matriz[2][3]}')"
   ]
  },
  {
   "cell_type": "code",
   "execution_count": 17,
   "metadata": {},
   "outputs": [
    {
     "name": "stdout",
     "output_type": "stream",
     "text": [
      "Insira o elemento da linha 0, coluna 0: 1\n",
      "Insira o elemento da linha 0, coluna 1: 2\n",
      "Insira o elemento da linha 0, coluna 2: 3\n",
      "Insira o elemento da linha 1, coluna 0: 4\n",
      "Insira o elemento da linha 1, coluna 1: 5\n",
      "Insira o elemento da linha 1, coluna 2: 6\n",
      "[[1, 2, 3], [4, 5, 6]]\n",
      "[[1, 4], [2, 5], [3, 6]]\n"
     ]
    }
   ],
   "source": [
    "#2. Transpor matriz:\n",
    "\n",
    "matriz = [[0,0,0],[0,0,0]]\n",
    "matrizt = [[0,0],[0,0],[0,0]]\n",
    "\n",
    "for i in range(0,2):\n",
    "    for j in range(0,3):\n",
    "        matriz[i][j] = int(input(\"Insira o elemento da linha {}, coluna {}: \".format(i,j)))\n",
    "print(matriz)\n",
    "\n",
    "for i in range (0,3):\n",
    "    for j in range (0,2):\n",
    "        matrizt[i][j] = matriz[j][i]\n",
    "print(matrizt)"
   ]
  },
  {
   "cell_type": "code",
   "execution_count": null,
   "metadata": {},
   "outputs": [],
   "source": []
  }
 ],
 "metadata": {
  "kernelspec": {
   "display_name": "Python 3",
   "language": "python",
   "name": "python3"
  },
  "language_info": {
   "codemirror_mode": {
    "name": "ipython",
    "version": 3
   },
   "file_extension": ".py",
   "mimetype": "text/x-python",
   "name": "python",
   "nbconvert_exporter": "python",
   "pygments_lexer": "ipython3",
   "version": "3.6.5"
  }
 },
 "nbformat": 4,
 "nbformat_minor": 2
}
