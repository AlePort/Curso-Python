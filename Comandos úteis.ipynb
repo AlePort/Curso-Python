{
 "cells": [
  {
   "cell_type": "markdown",
   "metadata": {},
   "source": [
    "Comandos Python 3:\n",
    "\n",
    "end='' -> Digitado dentro do print, gruda uma linha de código na outra\n",
    "\\n -> Digitado dentro do print, reparte uma linha em duas\n",
    "\\t -> Digitado dentro do print, cria um tab no meio da string\n",
    "\n",
    "{:.2f} -> Arredonda o flutuante para duas casas decimais\n",
    "{:20} -> Cria vinte espaços para escrever o resultado da máscara\n",
    "{:<20} -> Escreve a máscara do lado esquerdo\n",
    "{:>20} -> Escreve a máscara do lado direito\n",
    "{:^20} -> Escreve a máscara centralizada\n",
    "{:^=20} -> Escreve a máscara centralizada com iguais oa redor\n",
    "\n",
    "(variável).isupper() -> Usado dentro do print, imprime o resultado do operador booleano de string maiúscula\n",
    "(variável).isalpha() -> Usado dentro do print, imprime o resultado do operador booleano de string alfabética\n",
    "(variável).isdecimal() -> Usado dentro do print, imprime o resultado do operador booleano de string com números decimais\n",
    "(variável).isdigit() -> Usado dentro do print, imprime o resultado do operador booleano de string com uma cadeia apenas de números\n",
    "(variável).isidentifier() -> Usado dentro do print, imprime o resultado do operador booleano que analisa na string se todos os caractéres são válidos \n",
    "(variável).islower() -> Usado dentro do print, imprime o resultado do operador booleano de string minúscula\n",
    "(variável).isnumeric() -> Usado dentro do print, imprime o resultado do operador booleano de string numérica\n",
    "(variável).isprintable() -> Usado dentro do print, imprime o resultado do operador booleano de string alfanumérica\n",
    "(variável).isspace() -> Usado dentro do print, imprime o resultado do operador booleano de string de espaços\n",
    "(variável).istitle() -> Usado dentro do print, imprime o resultado do operador booleano de string capitalizada (maiúsculas e minúsculas juntas)\n",
    "\n",
    "type(variável) -> Usado dentro do print, imprime o tipo da variável, se 'str', 'int', 'float' ou 'bool'"
   ]
  },
  {
   "cell_type": "code",
   "execution_count": 8,
   "metadata": {},
   "outputs": [
    {
     "name": "stdout",
     "output_type": "stream",
     "text": [
      "Digite um número: 1\n",
      "<class 'str'>\n"
     ]
    }
   ],
   "source": [
    "n = input('Digite um número: ')\n",
    "print(type(n))"
   ]
  },
  {
   "cell_type": "code",
   "execution_count": null,
   "metadata": {},
   "outputs": [],
   "source": []
  },
  {
   "cell_type": "code",
   "execution_count": null,
   "metadata": {},
   "outputs": [],
   "source": []
  }
 ],
 "metadata": {
  "kernelspec": {
   "display_name": "Python 3",
   "language": "python",
   "name": "python3"
  },
  "language_info": {
   "codemirror_mode": {
    "name": "ipython",
    "version": 3
   },
   "file_extension": ".py",
   "mimetype": "text/x-python",
   "name": "python",
   "nbconvert_exporter": "python",
   "pygments_lexer": "ipython3",
   "version": "3.6.5"
  }
 },
 "nbformat": 4,
 "nbformat_minor": 2
}
