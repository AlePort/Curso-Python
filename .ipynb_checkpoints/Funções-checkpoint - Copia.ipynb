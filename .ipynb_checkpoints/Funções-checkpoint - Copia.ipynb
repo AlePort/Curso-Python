{
 "cells": [
  {
   "cell_type": "markdown",
   "metadata": {},
   "source": [
    "Funções:\n",
    "\n",
    "O conceito de função é o de um tipo de encapsulamento de códigos, pois a partir do comando \"def\", podemos separar algumas linhas do nosso programa para escrever um código que será usado várias vezes durante a execução do programa, economizando, assim, linhas do nosso programa e o deixando menor.\n",
    "\n",
    "Estrutura:\n",
    "\n",
    "def (nome da função):\n",
    "\n",
    "*Obs 1: O nome da função deve começar com letra minuscula e se for um nome com mais de uma palavra, a segunda deve começar com letra maiíscula e sem espaçamento da primeira.\n",
    "\n",
    "Nome da função: nomeFuncao(parâmetros)\n",
    "\n",
    "*Obs 2: O parametros são variáveis que serão usadas dentro da função que, após o uso, deixam de existir. Somente existirão enquanto a função existir.\n",
    "\n",
    "Ex:\n",
    "\n",
    "funcaoSoma(1,2)\n",
    "funcaoContagem(1,25,4)\n",
    "tabuada(1,2,5)\n",
    "\n",
    "*Obs 3: Apenas será possível transformar o resultado obtido na função em uma variável se dentro dela estiver a palavra reservada \"return\" acompanhada do resultado que se deseja guardar.\n",
    "\n",
    "Ex:\n",
    "\n",
    "return soma\n",
    "\n",
    "resultado1 = funcaoSoma(1,2)\n",
    "resultado2 = funcaoSoma(2,3)"
   ]
  },
  {
   "cell_type": "code",
   "execution_count": 20,
   "metadata": {},
   "outputs": [
    {
     "name": "stdout",
     "output_type": "stream",
     "text": [
      "Informe o lado a do triângulo: 3\n",
      "Informe o lado b do triângulo: 3\n",
      "Informe o lado c do triângulo: 3\n",
      "É um triangulo equilátero!\n"
     ]
    }
   ],
   "source": [
    "#1. Lados de um triângulo:\n",
    "\n",
    "def triangulo(lado1, lado2, lado3):\n",
    "    \n",
    "    if lado1 < lado2 + lado3 and lado2 < lado3 + lado1 and lado3 < lado2 + lado1:\n",
    "        return 1\n",
    "    return 0\n",
    "\n",
    "a = int(input(\"Informe o lado a do triângulo: \"))\n",
    "b = int(input(\"Informe o lado b do triângulo: \"))\n",
    "c = int(input(\"Informe o lado c do triângulo: \"))\n",
    "\n",
    "if triangulo(a,b,c) == 1:\n",
    "    if a == b == c:\n",
    "        print(\"É um triangulo equilátero!\")\n",
    "    elif a == b != c:\n",
    "        print(\"É um triângulo isóceles!\")\n",
    "    else:\n",
    "        print(\"É um triângulo escaleno!\")\n",
    "else:\n",
    "    print(\"Não é um triângulo!\")"
   ]
  }
 ],
 "metadata": {
  "kernelspec": {
   "display_name": "Python 3",
   "language": "python",
   "name": "python3"
  },
  "language_info": {
   "codemirror_mode": {
    "name": "ipython",
    "version": 3
   },
   "file_extension": ".py",
   "mimetype": "text/x-python",
   "name": "python",
   "nbconvert_exporter": "python",
   "pygments_lexer": "ipython3",
   "version": "3.6.5"
  }
 },
 "nbformat": 4,
 "nbformat_minor": 2
}
