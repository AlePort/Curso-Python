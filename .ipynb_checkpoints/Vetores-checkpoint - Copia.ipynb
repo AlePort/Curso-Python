{
 "cells": [
  {
   "cell_type": "markdown",
   "metadata": {},
   "source": [
    "Vetores:\n",
    "\n",
    "Um vetor é uma variável capaz de guardar vários valores.\n",
    "\n",
    "Ex:\n",
    "\n",
    "vetor = [0, 1, 2, 3, 4, 5, 6, 7, 8, 9] (vetor padrão sem nenhum valor definido pelo usuário)\n",
    "vetor = [2, 5, 34, 65, 7, 56, 123, 12] (vetor com valores aleatórios definidos pelo usuário)\n",
    "\n",
    "Quando queremos criar um vetor apenas com um tamanho, sem preencher seus espaços, temos que utilizar a palavra reservada \"range\".\n",
    "\n",
    "Ex:\n",
    "\n",
    "vetor = range(10)\n",
    "cores = range(255)\n",
    "\n",
    "Para percorrer um vetor usamos o comando \"for\" com a variável de iteração \"i\"."
   ]
  },
  {
   "cell_type": "code",
   "execution_count": 12,
   "metadata": {},
   "outputs": [
    {
     "name": "stdout",
     "output_type": "stream",
     "text": [
      "Digite o tamanho da lista: 10\n",
      "Digite um número para a posição 0: 1\n",
      "Digite um número para a posição 1: 3\n",
      "Digite um número para a posição 2: 2\n",
      "Digite um número para a posição 3: 4\n",
      "Digite um número para a posição 4: 5\n",
      "Digite um número para a posição 5: 6\n",
      "Digite um número para a posição 6: 7\n",
      "Digite um número para a posição 7: 8\n",
      "Digite um número para a posição 8: 9\n",
      "Digite um número para a posição 9: 9\n",
      "3\n",
      "4\n",
      "6\n",
      "8\n",
      "9\n"
     ]
    }
   ],
   "source": [
    "#1. Números nas posições impares:\n",
    "\n",
    "n = int(input(\"Digite o tamanho da lista: \"))\n",
    "\n",
    "numeros = list(range(n))\n",
    "\n",
    "for i in numeros:\n",
    "    numeros[i] = int(input(\"Digite um número para a posição {}: \".format(i)))\n",
    "\n",
    "for i in range(0,n):\n",
    "    if i % 2 == 1:\n",
    "        print(numeros[i])"
   ]
  },
  {
   "cell_type": "code",
   "execution_count": 38,
   "metadata": {},
   "outputs": [
    {
     "name": "stdout",
     "output_type": "stream",
     "text": [
      "Digite o tamanho da lista: 10\n",
      "Digite o número da posição 0: 7\n",
      "Digite o número da posição 1: 4\n",
      "Digite o número da posição 2: 5\n",
      "Digite o número da posição 3: 8\n",
      "Digite o número da posição 4: 1\n",
      "Digite o número da posição 5: 6\n",
      "Digite o número da posição 6: 9\n",
      "Digite o número da posição 7: 3\n",
      "Digite o número da posição 8: 2\n",
      "Digite o número da posição 9: 10\n",
      "[1, 2, 3, 4, 5, 6, 7, 8, 9, 10]\n"
     ]
    }
   ],
   "source": [
    "#2. Organização de números em ordem crescente:\n",
    "\n",
    "n = int(input(\"Digite o tamanho da lista: \"))\n",
    "\n",
    "numeros = list(range(n))\n",
    "\n",
    "for s in range(0,n):\n",
    "    numeros[s] = int(input(\"Digite o número da posição {}: \".format(s)))\n",
    "    \n",
    "for i in range(0,n):\n",
    "    for j in range(0,i):\n",
    "        if numeros[i] < numeros[j]:\n",
    "            aux = numeros[i]\n",
    "            numeros[i] = numeros[j]\n",
    "            numeros[j] = aux\n",
    "            \n",
    "print(numeros)"
   ]
  }
 ],
 "metadata": {
  "kernelspec": {
   "display_name": "Python 3",
   "language": "python",
   "name": "python3"
  },
  "language_info": {
   "codemirror_mode": {
    "name": "ipython",
    "version": 3
   },
   "file_extension": ".py",
   "mimetype": "text/x-python",
   "name": "python",
   "nbconvert_exporter": "python",
   "pygments_lexer": "ipython3",
   "version": "3.6.5"
  }
 },
 "nbformat": 4,
 "nbformat_minor": 2
}
