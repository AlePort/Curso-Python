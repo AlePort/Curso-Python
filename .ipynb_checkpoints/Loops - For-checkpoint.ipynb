{
 "cells": [
  {
   "cell_type": "markdown",
   "metadata": {},
   "source": [
    "Comando For:\n",
    "\n",
    "O comando \"for\" é um comando de loop que repete determinada operação, seja ela de imprimir uma frase na tela, efetuar cálculos etc, um determinado número de vezes até que o contador final dê a orde de parada.\n",
    "\n",
    "*Obs: O contador final nunca fica guardado dentro da variável que está sendo usada dentro do \"for\".\n",
    "\n",
    "Estrutura:\n",
    "\n",
    "for (variável) in range (contador incial, contador final):\n",
    "\n",
    "for (variável) in \"(string)\" --> Irá percorrer a string e contando a cada letra"
   ]
  },
  {
   "cell_type": "code",
   "execution_count": 3,
   "metadata": {},
   "outputs": [
    {
     "name": "stdout",
     "output_type": "stream",
     "text": [
      "Digite um número para ser analisado: 9\n",
      "Tabuada do 9:\n",
      "9 X 1 = 9\n",
      "9 X 2 = 18\n",
      "9 X 3 = 27\n",
      "9 X 4 = 36\n",
      "9 X 5 = 45\n",
      "9 X 6 = 54\n",
      "9 X 7 = 63\n",
      "9 X 8 = 72\n",
      "9 X 9 = 81\n",
      "9 X 10 = 90\n"
     ]
    }
   ],
   "source": [
    "#1. Tabuada de um número:\n",
    "\n",
    "numero = int(input(\"Digite um número para ser analisado: \"))\n",
    "\n",
    "print(\"Tabuada do {}:\".format(numero))\n",
    "\n",
    "for multiplo in range(1, 11):\n",
    "    resultado = numero * multiplo\n",
    "    print(\"{} X {} = {}\".format(numero, multiplo, resultado))"
   ]
  },
  {
   "cell_type": "code",
   "execution_count": 10,
   "metadata": {},
   "outputs": [
    {
     "name": "stdout",
     "output_type": "stream",
     "text": [
      "Juros (em decimais): 0.1\n",
      "Capital inicial: 100\n",
      "Período (em meses): 3\n",
      "1º mês: R$110.0\n",
      "2º mês: R$121.0\n",
      "3º mês: R$133.1\n"
     ]
    }
   ],
   "source": [
    "#2. Montante ao final de cada mês:\n",
    "\n",
    "juros = float(input(\"Juros (em decimais): \"))\n",
    "capital = float(input(\"Capital inicial: \"))\n",
    "periodo = int(input(\"Período (em meses): \"))\n",
    "\n",
    "for contador in range(1, periodo + 1):\n",
    "    montante = capital + capital * juros\n",
    "    capital = montante\n",
    "    print(\"{}º mês: R${}\".format(contador, montante))\n"
   ]
  },
  {
   "cell_type": "code",
   "execution_count": null,
   "metadata": {},
   "outputs": [],
   "source": []
  }
 ],
 "metadata": {
  "kernelspec": {
   "display_name": "Python 3",
   "language": "python",
   "name": "python3"
  },
  "language_info": {
   "codemirror_mode": {
    "name": "ipython",
    "version": 3
   },
   "file_extension": ".py",
   "mimetype": "text/x-python",
   "name": "python",
   "nbconvert_exporter": "python",
   "pygments_lexer": "ipython3",
   "version": "3.6.5"
  }
 },
 "nbformat": 4,
 "nbformat_minor": 2
}
