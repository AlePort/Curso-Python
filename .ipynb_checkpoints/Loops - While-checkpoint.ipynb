{
 "cells": [
  {
   "cell_type": "markdown",
   "metadata": {},
   "source": [
    "Comando while:\n",
    "\n",
    "O comando \"while\" é como se fosse o comando \"for\" funcionando juntamente com o comando \"if\", pois só irá parar o loop se determinada condição for satisfeita.\n",
    "\n",
    "Estrutura:\n",
    "\n",
    "while (variável) (operador lógico) (condição a ser satisfeita)"
   ]
  },
  {
   "cell_type": "code",
   "execution_count": 13,
   "metadata": {},
   "outputs": [
    {
     "name": "stdout",
     "output_type": "stream",
     "text": [
      "Digite a temperatura ou 999 para sair: 12\n",
      "Digite a temperatura ou 999 para sair: 23\n",
      "Digite a temperatura ou 999 para sair: 999\n",
      "Saindo...\n",
      "A média das 2 temperaturas é: 17.5\n"
     ]
    }
   ],
   "source": [
    "#1. Média de temperaturas:\n",
    "\n",
    "temperatura = 0\n",
    "somatorio = 0\n",
    "contador = 0\n",
    "\n",
    "while temperatura != 999:\n",
    "    temperatura = float(input(\"Digite a temperatura ou 999 para sair: \"))\n",
    "    if temperatura != 999:\n",
    "        somatorio += temperatura\n",
    "        contador += 1\n",
    "    else:\n",
    "        print(\"Saindo...\")\n",
    "\n",
    "media = somatorio / contador\n",
    "print(\"A média das {} temperaturas é: {}\".format(contador, media))"
   ]
  },
  {
   "cell_type": "code",
   "execution_count": 22,
   "metadata": {},
   "outputs": [
    {
     "name": "stdout",
     "output_type": "stream",
     "text": [
      "Dígite um número inteiro positivo qualquer ou um negativo para sair: -1\n",
      "Saindo...\n",
      "Resultados:\n",
      "Existem 0 números compreendidos entre o intervalo [0,25]\n",
      "Existem 0 números compreendidos entre o intervalo [26,50]\n",
      "Existem 0 números compreendidos entre o intervalo [51,75]\n",
      "Existem 0 números compreendidos entre o intervalo [76,100]\n"
     ]
    }
   ],
   "source": [
    "#2. Classificação de números em intervalos:\n",
    "\n",
    "a=0\n",
    "b=0\n",
    "c=0\n",
    "d=0\n",
    "\n",
    "numero = 0\n",
    "while numero >= 0:\n",
    "    numero = int(input(\"Dígite um número inteiro positivo qualquer ou um negativo para sair: \"))\n",
    "    if numero >= 0:\n",
    "        if numero <= 25:\n",
    "            a += 1\n",
    "        else:\n",
    "            if numero <= 50:\n",
    "                b += 1\n",
    "            else:\n",
    "                if numero <= 75:\n",
    "                    c += 1\n",
    "                else:\n",
    "                    if numero <= 100:\n",
    "                        d += 1\n",
    "    else:\n",
    "        print(\"Saindo...\")\n",
    "print(\"Resultados:\")\n",
    "print(\"Existem {} números compreendidos entre o intervalo [0,25]\".format(a))\n",
    "print(\"Existem {} números compreendidos entre o intervalo [26,50]\".format(b))\n",
    "print(\"Existem {} números compreendidos entre o intervalo [51,75]\".format(c))\n",
    "print(\"Existem {} números compreendidos entre o intervalo [76,100]\".format(d))"
   ]
  },
  {
   "cell_type": "code",
   "execution_count": null,
   "metadata": {},
   "outputs": [],
   "source": []
  }
 ],
 "metadata": {
  "kernelspec": {
   "display_name": "Python 3",
   "language": "python",
   "name": "python3"
  },
  "language_info": {
   "codemirror_mode": {
    "name": "ipython",
    "version": 3
   },
   "file_extension": ".py",
   "mimetype": "text/x-python",
   "name": "python",
   "nbconvert_exporter": "python",
   "pygments_lexer": "ipython3",
   "version": "3.6.5"
  }
 },
 "nbformat": 4,
 "nbformat_minor": 2
}
