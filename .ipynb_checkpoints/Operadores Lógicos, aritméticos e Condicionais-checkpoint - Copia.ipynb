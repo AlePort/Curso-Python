{
 "cells": [
  {
   "cell_type": "markdown",
   "metadata": {},
   "source": [
    "Operadores:\n",
    "\n",
    "Adição: +\n",
    "Subtração: -\n",
    "Multiplicação: *\n",
    "Divisão: /\n",
    "Potenciação: **\n",
    "Mod: %\n",
    "Divisão inteira: //\n",
    "Desigualdade: !=\n",
    "Igualdade: ==\n",
    "Maior ou igual: >=\n",
    "Menor ou igual: <=\n",
    "Maior: >\n",
    "Menos: <\n",
    "\n",
    "Ordem:\n",
    "\n",
    "1. ()\n",
    "2. **\n",
    "3. *, /, //, %\n",
    "4. +, -\n",
    "\n",
    "Condicionais:\n",
    "\n",
    "if: Se\n",
    "elif: Senão, se\n",
    "else: Senão"
   ]
  },
  {
   "cell_type": "code",
   "execution_count": null,
   "metadata": {},
   "outputs": [],
   "source": [
    "print(\"Calculadora IMC\")\n",
    "\n",
    "nome = input(\"Informe o seu nome: \")\n",
    "peso = float(input(\"Olá {}, digite o seu peso (em Kg): \".format(nome)))\n",
    "altura = float(input(\"Agora, digite a sua altura (em metros): \"))\n",
    "\n",
    "imc = peso/(altura)**2\n",
    "\n",
    "print(nome,\", o seu IMC é de \" ,round(imc,2))\n",
    "\n",
    "if imc <= 17:\n",
    "    print(\"Muito a baixo do peso\")\n",
    "elif imc >= 17 and imc <= 18.49:\n",
    "    print(\"Abaixo do peso\")\n",
    "elif imc >= 18.5 and imc <= 24.99:\n",
    "    print(\"Normal\")\n",
    "elif imc >= 25 and imc <= 29.99:\n",
    "    print(\"Acima do peso\")\n",
    "elif imc >= 30 and imc <= 34.99:\n",
    "    print(\"Obesidade I\")\n",
    "elif imc <= 35 and imc <= 39.99:\n",
    "    print(\"Obesidade II (severa)\")\n",
    "elif imc >= 40:\n",
    "    print(\"Obesidade III (mórbida)\")"
   ]
  }
 ],
 "metadata": {
  "kernelspec": {
   "display_name": "Python 3",
   "language": "python",
   "name": "python3"
  },
  "language_info": {
   "codemirror_mode": {
    "name": "ipython",
    "version": 3
   },
   "file_extension": ".py",
   "mimetype": "text/x-python",
   "name": "python",
   "nbconvert_exporter": "python",
   "pygments_lexer": "ipython3",
   "version": "3.6.5"
  }
 },
 "nbformat": 4,
 "nbformat_minor": 2
}
